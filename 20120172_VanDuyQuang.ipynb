{
 "cells": [
  {
   "attachments": {},
   "cell_type": "markdown",
   "metadata": {},
   "source": [
    "*20120172 - Vân Duy Quang*\n",
    "## **BÀI TẬP 1: ÔN TẬP XÁC SUẤT**"
   ]
  },
  {
   "attachments": {},
   "cell_type": "markdown",
   "metadata": {},
   "source": [
    "#### **Câu 1.**  \n",
    "Gọi $R_1$, $R_2$, $R_3$, $R_4$ lần lượt là các biến cố router $R_1$, $R_2$, $R_3$ và $R_4$ hoạt động, $E$ là biến cố $A$ liên lạc được $B$.  \n",
    "\n",
    "#### *a)*  \n",
    "Ta thấy $A$ và $B$ liên lạc được thông qua \n",
    "$\n",
    "\\begin{cases}\n",
    "    A \\rightarrow R_2 \\rightarrow R_3 \\rightarrow B\\\\\n",
    "    A \\rightarrow R_2 \\rightarrow R_4 \\rightarrow B.  \n",
    "\\end{cases}\n",
    "$\n",
    "\n",
    "Do đó:  \n",
    "$$E_a = (R_2 \\cap R_3) \\cup (R_2 \\cap R_4) = R_2\\cap(R_3 \\cup R_4)$$\n",
    "\n",
    "Suy ra: \n",
    "\\begin{align*}\n",
    "    & P(E_a) &=& P(R_2.(R_3 + R_4)) \\\\\n",
    "    &\\;&=& P(R_2).P(R_3 + R_4 | R_2)\\\\\n",
    "    &\\; &=& P(R_2).[1 - P(\\overline{R_3}.\\overline{R_4} | R_2)]\\\\\n",
    "    &\\; &=& P(R_2).(1 - P(\\overline{R_3} | R_2).P(\\overline{R_4} | R_2)) \\\\\n",
    "    &\\; &=& P(R_2).(1 - P(\\overline{R_3}).P(\\overline{R_4})) \\\\\n",
    "    &\\; &=& 0.85 \\times (1 - 0.2\\times 0.25)) \\\\\n",
    "    &\\; &=& 0.8075\n",
    "\\end{align*}\n",
    "\n",
    "Vậy  \n",
    "$$P(E_a) = 0.8075$$\n"
   ]
  },
  {
   "attachments": {},
   "cell_type": "markdown",
   "metadata": {},
   "source": [
    "#### *b)*  \n",
    "$R_1$ tạo đường đi thẳng $A \\rightarrow R_1 \\rightarrow B$. Vậy miễn là  $R_1$ không hư, $A$ và $B$ có thể liên lạc được, như vậy ta có:\n",
    "$$E_b = R_1 \\cup E_a$$\n",
    "\n",
    "Do đó: \n",
    "$$P(E_b) = P(R_1 + E_a) = 1 - P(\\overline{R_1}).P(\\overline{E_a}) = 1 - P(\\overline{R_1}).[1 - P(E_a)]$$\n",
    "\n",
    "Vậy:  \n",
    "$$P(E_b) = 1 - 0.1\\times(1 - 0.8075) = 0.98075$$"
   ]
  },
  {
   "attachments": {},
   "cell_type": "markdown",
   "metadata": {},
   "source": [
    "##### **Kiểm tra**\n",
    "\n",
    "*Giải thích:* \n",
    "* Hàm `find_path` là hàm đệ quy giúp kiểm tra xem từ vị trí  `From` có đi đến vị trí `To` được không, lấy mảng `existed_items` làm mảng chứa những phần tử đã đi qua nhằm tránh tạo chu trình đồ thị. Trước khi bắt đầu quá trình đệ quy, hàm này kiểm tra xem `From` có nằm trong danh sách `failed_items` chứa những router hỏng không, nếu router `From` hỏng, trả về `False` cho hàm cha.\n",
    "* Hàm `make_fail_items` giúp tạo ra mảng `failed_items` nói trên, dựa vào thông số `fail_prob` cung cấp xác suất hỏng của từng router (Xem như $A$ và $B$ cũng là router với xác suất hỏng là $0$)"
   ]
  },
  {
   "cell_type": "code",
   "execution_count": 1,
   "metadata": {},
   "outputs": [],
   "source": [
    "import random\n",
    "\n",
    "vertexes = ['A', 'R1', 'R2', 'R3', 'R4', 'B']\n",
    "edges = [('A', 'R1'), ('A', 'R2'), ('R1', 'R3'), ('R1', 'B'),\n",
    "         ('R3', 'R2'), ('R3', 'B'), ('R2', 'R4'), ('R4', 'B')]\n",
    "fail_prob = [0, 0.1, 0.15, 0.2, 0.25, 0]\n",
    "\n",
    "\n",
    "def find_path(From = 'A', existed_items = [], To = 'B', failed_items = []):\n",
    "\tif (From in failed_items):\n",
    "\t\treturn False\n",
    "\texisted_items.append(From)\n",
    "\tif From == To:\n",
    "\t\t# print(existed_items)\n",
    "\t\texisted_items.pop(-1)\n",
    "\t\treturn True\n",
    "\t\n",
    "\tfor edge in edges:\n",
    "\t\tif From in edge:\n",
    "\t\t\tother = edge[1] if edge[0] == From else edge[0]\n",
    "\t\t\tif (other in existed_items):\n",
    "\t\t\t\tcontinue\n",
    "\t\t\tif find_path(other, existed_items, To, failed_items):\n",
    "\t\t\t\treturn True\n",
    "\texisted_items.pop(-1)\n",
    "\treturn False\n",
    "\n",
    "def make_fail_items():\n",
    "\tfailed_items = []\n",
    "\tfor i in range(len(vertexes)):\n",
    "\t\tif not random.choices([False, True], [fail_prob[i], 1 - fail_prob[i]])[0]:\n",
    "\t\t\tfailed_items.append(vertexes[i])\n",
    "\treturn failed_items"
   ]
  },
  {
   "attachments": {},
   "cell_type": "markdown",
   "metadata": {},
   "source": [
    "#### *a)*\n",
    "Với *Câu 1a*, ta điều chỉnh mảng ` fail_prob` để xác suất hỏng của $R_1$ là $1$, đảm bảo $R_1$ luôn được thêm vào `failed_items`.\n",
    "\n",
    "*Kết quả tính toán:* $0.8075$  \n",
    "*Kết quả mô phỏng*:"
   ]
  },
  {
   "cell_type": "code",
   "execution_count": 19,
   "metadata": {},
   "outputs": [
    {
     "name": "stdout",
     "output_type": "stream",
     "text": [
      "Câu 1a:  0.806972\n"
     ]
    }
   ],
   "source": [
    "n = 1000000 # The smaller the faster \n",
    "\n",
    "def number_of_successes(n):\n",
    "    k = 0\n",
    "    for _ in range(n):\n",
    "        failed_items = make_fail_items()\n",
    "        if find_path('A', [], 'B', failed_items):\n",
    "            k += 1\n",
    "    return k\n",
    "\n",
    "# Câu 1a\n",
    "fail_prob = [0, 1, 0.15, 0.2, 0.25, 0] # P(\"R1 fails\") = 1\n",
    "print(\"Câu 1a: \", number_of_successes(n)/n)"
   ]
  },
  {
   "attachments": {},
   "cell_type": "markdown",
   "metadata": {},
   "source": [
    "#### *b)*  \n",
    "*Kết quả tính toán:* $0.98075$  \n",
    "*Kết quả mô phỏng*:"
   ]
  },
  {
   "cell_type": "code",
   "execution_count": 3,
   "metadata": {},
   "outputs": [
    {
     "name": "stdout",
     "output_type": "stream",
     "text": [
      "Câu 1b:  0.980875\n"
     ]
    }
   ],
   "source": [
    "n = 100000\n",
    "# Câu 1b\n",
    "fail_prob = [0, 0.1, 0.15, 0.2, 0.25, 0]\n",
    "print(\"Câu 1b: \", number_of_successes(n)/n)"
   ]
  },
  {
   "attachments": {},
   "cell_type": "markdown",
   "metadata": {},
   "source": [
    "#### **Câu 2.**\n",
    "#### *a)*  \n",
    "Ma trận chuyển trạng thái của chuột là\n",
    "$P =\n",
    "\\begin{bmatrix}\n",
    "p_1 & p_2 & p_3 & p_4\n",
    "\\end{bmatrix}\n",
    "$ $=$\n",
    "$\n",
    "\\begin{bmatrix}\n",
    "1/2 & 1/4 & 0 & 0 \\\\\n",
    "1/2 & 1/4 & 1/3 & 1/3\\\\\n",
    "0 & 1/4 & 1/3 & 1/3\\\\\n",
    "0 & 1/4 & 1/3 & 1/3\n",
    "\\end{bmatrix}\n",
    "$  \n",
    "\n",
    "Ban đầu phân phối xác suất là:\n",
    "$$\\pi_0 = \\begin{bmatrix}\n",
    "1 & 0 & 0 & 0\n",
    "\\end{bmatrix}$$\n",
    "\n",
    "Phân phối xác suất tại thời điểm $t = 5$ ngày sau là:\n",
    "$$\\pi_5 = P\\times \\pi_0 = {\\begin{bmatrix}\n",
    "1/2 & 1/4 & 0 & 0 \\\\\n",
    "1/2 & 1/4 & 1/3 & 1/3\\\\\n",
    "0 & 1/4 & 1/3 & 1/3\\\\\n",
    "0 & 1/4 & 1/3 & 1/3\n",
    "\\end{bmatrix}}^5 \\times {\\begin{bmatrix}\n",
    "1 & 0 & 0 & 0\n",
    "\\end{bmatrix}\n",
    "} $$\n"
   ]
  },
  {
   "cell_type": "code",
   "execution_count": 43,
   "metadata": {},
   "outputs": [
    {
     "name": "stdout",
     "output_type": "stream",
     "text": [
      "[0.20334201 0.34280961 0.22692419 0.22692419]\n",
      "1.0\n"
     ]
    }
   ],
   "source": [
    "import numpy as np\n",
    "p_0 = np.array([1, 0, 0, 0])\n",
    "P = np.array([[1/2, 1/4, 0, 0],\n",
    "              [1/2, 1/4, 1/3, 1/3],\n",
    "              [0, 1/4, 1/3, 1/3],\n",
    "              [0, 1/4, 1/3, 1/3]])\n",
    "p_5 = np.dot(np.linalg.matrix_power(P, 5), p_0)\n",
    "print(p_5)"
   ]
  },
  {
   "attachments": {},
   "cell_type": "markdown",
   "metadata": {},
   "source": [
    "\n",
    "Vậy:  \n",
    "$$\\pi_5 = \n",
    "\\begin{bmatrix}\n",
    "0.20334201 & 0.34280961 & 0.22692419 & 0.22692419\n",
    "\\end{bmatrix}$$\n",
    "\n",
    "Vậy xác suất chuột vẫn ở phòng $1$ nếu ban đầu ở phòng $1$ là $p_{1,1} = 0.203342$"
   ]
  },
  {
   "attachments": {},
   "cell_type": "markdown",
   "metadata": {},
   "source": [
    "#### *b)*  \n",
    "Khi $n$ tiến ra $\\infty$, $n-1$ cũng tiến ra $\\infty$.  \n",
    "Vậy khi đó:  \n",
    "$$\\pi_n = P\\times \\pi_n$$\n",
    "\n",
    "Tức là:  \n",
    "$$(I_n - P)\\pi_n = 0$$\n",
    "\n",
    "Với $\\pi_n = \\begin{bmatrix}\n",
    "a, b, c, d\n",
    "\\end{bmatrix}$ và $(I_n - P) = \\begin{bmatrix}\n",
    "1/2 & -1/4 & 0 & 0 \\\\\n",
    "-1/2 & 3/4 & -1/3 & -1/3\\\\\n",
    "0 & -1/4 & 2/3 & -1/3\\\\\n",
    "0 & -1/4 & -1/3 & 2/3\n",
    "\\end{bmatrix}$\n",
    "\n",
    "Giải hệ phương trình tuyến tính $4$ ẩn trên với điều kiện $a + b + c + d = 1$:\n"
   ]
  },
  {
   "cell_type": "code",
   "execution_count": 50,
   "metadata": {},
   "outputs": [
    {
     "name": "stdout",
     "output_type": "stream",
     "text": [
      "[0.16666667 0.33333333 0.25       0.25      ]\n"
     ]
    }
   ],
   "source": [
    "i_p = np.array([[1/2, -1/4, 0, 0],\n",
    "              [-1/2, 3/4, -1/3, -1/3],\n",
    "              [0, -1/4, 2/3, -1/3],\n",
    "              [1, 1, 1, 1]])\n",
    "p_n = np.array([0, 0, 0, 1])\n",
    "print(np.linalg.solve(i_p, p_n))"
   ]
  },
  {
   "attachments": {},
   "cell_type": "markdown",
   "metadata": {},
   "source": [
    "Suy ra ta được: \n",
    "\\begin{cases}\n",
    "a = \\frac{1}{6} = 0.1667 \\\\\n",
    "b = \\frac{1}{3} = 0.3333 \\\\\n",
    "c = \\frac{1}{4} = 0.25 \\\\\n",
    "d = \\frac{1}{4} = 0.25\n",
    "\\end{cases}\n",
    "\n",
    "Vậy sau $n$ ngày thì xác suất chuột di chuyển sang các phòng khác là:  \n",
    "$$\\pi_n =  \\begin{bmatrix}\n",
    "0.1667 & 0.3333 & 0.25 & 0.25\n",
    "\\end{bmatrix}$$"
   ]
  },
  {
   "attachments": {},
   "cell_type": "markdown",
   "metadata": {},
   "source": [
    "#### *c)*  \n",
    "Gọi $p_{(a, b)}$ là vectơ xác suất của chuột khi ở phòng $a$ được $b$ ngày ($a \\in \\overline{1, 4}, \\;\\; b \\in \\overline{1, 3}$). Ma trận chuyển trạng thái của chuột bây giờ là  \n",
    "$$\n",
    "\\begin{align*}\n",
    "    P &=\n",
    "    \\begin{bmatrix}\n",
    "    p_{(1,1)} & p_{(1,2)} & p_{(1,3)} & p_{(2,1)} & p_{(2,2)} & p_{(2,3)} & p_{(3,1)} & p_{(3,2)} & p_{(3,3)} & p_{(4,1)} & p_{(4,2)} & p_{(4,3)} \n",
    "    \\end{bmatrix} \\\\[10pt]\n",
    "    &=\n",
    "    \\begin{bmatrix}\n",
    "    0   & 0   & 0     & 1/4 & 1/4 & 1/3    & 0   & 0   & 0       & 0   & 0   & 0 \\\\\n",
    "    1/2 & 0   & 0     & 0   & 0   & 0      & 0   & 0   & 0       & 0   & 0   & 0 \\\\\n",
    "    0   & 1/2 & 0     & 0   & 0   & 0      & 0   & 0   & 0       & 0   & 0   & 0 \\\\\n",
    "           \n",
    "    1/2 & 1/2 & 1     & 0   & 0   & 0      & 1/3 & 1/3 & 1/2     & 1/3 & 1/3 & 1/2 \\\\\n",
    "    0   & 0   & 0     & 1/4 & 0   & 0      & 0   & 0   & 0       & 0   & 0   & 0 \\\\\n",
    "    0   & 0   & 0     & 0   & 1/4 & 0      & 0   & 0   & 0       & 0   & 0   & 0 \\\\\n",
    "               \n",
    "    0   & 0   & 0     & 1/4 & 1/4 & 1/3    & 0   & 0   & 0       & 1/3 & 1/3 & 1/2  \\\\\n",
    "    0   & 0   & 0     & 0   & 0   & 0      & 1/3 & 0   & 0       & 0   & 0   & 0  \\\\\n",
    "    0   & 0   & 0     & 0   & 0   & 0      & 0   & 1/3 & 0       & 0   & 0   & 0  \\\\\n",
    "               \n",
    "    0   & 0   & 0     & 1/4 & 1/4 & 1/3    & 1/3 & 1/3 & 1/2     & 0   & 0   & 0 \\\\\n",
    "    0   & 0   & 0     & 0   & 0   & 0      & 0   & 0   & 0       & 1/3 & 0   & 0 \\\\\n",
    "    0   & 0   & 0     & 0   & 0   & 0      & 0   & 0   & 0       & 0   & 1/3 & 0\n",
    "    \\end{bmatrix}\n",
    "\\end{align*}\n",
    "$$\n",
    "Ban đầu phân phối xác suất là:\n",
    "$$\\pi_0 = \\begin{bmatrix}\n",
    "1 & 0 & 0 & 0 & 0 & 0 & 0 & 0 & 0 & 0 & 0 & 0 \\\\\n",
    "\\end{bmatrix}$$\n",
    "\n",
    "Phân phối xác suất tại thời điểm $t = 5$ ngày sau là:\n",
    "$$\\pi_5 = P \\times \\pi_0"
   ]
  },
  {
   "cell_type": "code",
   "execution_count": 52,
   "metadata": {},
   "outputs": [
    {
     "name": "stdout",
     "output_type": "stream",
     "text": [
      "[0.07899306 0.0625     0.0234375  0.28385417 0.04904514 0.02473958\n",
      " 0.16232639 0.06134259 0.0150463  0.16232639 0.06134259 0.0150463 ]\n"
     ]
    }
   ],
   "source": [
    "import numpy as np\n",
    "p_0 = np.array([1, 0, 0,    0  ,   0,   0,    0  ,   0,   0,     0  ,   0,   0])\n",
    "\n",
    "P = np.array([[0  ,   0, 0,    1/4, 1/4, 1/3,    0  ,   0,   0,     0  ,   0,   0],\n",
    "              [1/2,   0, 0,    0  ,   0,   0,    0  ,   0,   0,     0  ,   0,  0],\n",
    "              [0  , 1/2, 0,    0  ,   0,   0,    0  ,   0,   0,     0  ,   0,   0],\n",
    "              [1/2, 1/2, 1,    0  ,   0,   0,    1/3, 1/3, 1/2,     1/3, 1/3, 1/2],\n",
    "              [0  ,   0, 0,    1/4,   0,   0,    0  ,   0,   0,     0  ,   0,   0],\n",
    "              [0  ,   0, 0,    0  , 1/4,   0,    0  ,   0,   0,     0  ,   0,   0],\n",
    "              [0  ,   0, 0,    1/4, 1/4, 1/3,    0  ,   0,   0,     1/3, 1/3, 1/2],\n",
    "              [0  ,   0, 0,    0  ,   0,   0,    1/3,   0,   0,     0  ,   0,   0],\n",
    "              [0  ,   0, 0,    0  ,   0,   0,    0  , 1/3,   0,     0  ,   0,   0],\n",
    "              [0  ,   0, 0,    1/4, 1/4, 1/3,    1/3, 1/3, 1/2,     0  ,   0,   0],\n",
    "              [0  ,   0, 0,    0  ,   0,   0,    0  ,   0,   0,     1/3,   0,   0],\n",
    "              [0  ,   0, 0,    0  ,   0,   0,    0  ,   0,   0,     0  , 1/3,   0]])\n",
    "\n",
    "p_5 = np.dot(np.linalg.matrix_power(P, 5), p_0)\n",
    "print(p_5)"
   ]
  },
  {
   "attachments": {},
   "cell_type": "markdown",
   "metadata": {},
   "source": [
    "Vậy:\n",
    "$$\\pi_5 =  \\begin{bmatrix}\n",
    "0.07899306 & 0.0625 & 0.0234375\\dots\n",
    "\\end{bmatrix}$$\n",
    "\n",
    "Tổng xác suất chuột ở phòng $1$ (đã được $1$ ngày, $2$ ngày, $3$ ngày) sau $5$ ngày là:  \n",
    "$$P(C) = 0.07899306 + 0.0625 + 0.0234375 =  0.16493056$$"
   ]
  },
  {
   "attachments": {},
   "cell_type": "markdown",
   "metadata": {},
   "source": [
    "#### *d)*  \n",
    "\n",
    "Với $\\pi_n = \\begin{bmatrix}\n",
    "a_1, a_2, a_3, b_1, b_2, b_3, c_1, c_2, c_3, d_1, d_2, d_3\n",
    "\\end{bmatrix}$ và :\n",
    "$$(I_n - P) =     \\begin{bmatrix}\n",
    "    0   & 0   & 0     & -1/4 & -1/4 & -1/3    & 0   & 0   & 0       & 0   & 0   & 0 \\\\\n",
    "    -1/2 & 0   & 0     & 0   & 0   & 0      & 0   & 0   & 0       & 0   & 0   & 0 \\\\\n",
    "    0   & -1/2 & 0     & 0   & 0   & 0      & 0   & 0   & 0       & 0   & 0   & 0 \\\\\n",
    "           \n",
    "    -1/2 & -1/2 & -1     & 0   & 0   & 0      & -1/3 & -1/3 & -1/2     & -1/3 & -1/3 & -1/2 \\\\\n",
    "    0   & 0   & 0     & -1/4 & 0   & 0      & 0   & 0   & 0       & 0   & 0   & 0 \\\\\n",
    "    0   & 0   & 0     & 0   & -1/4 & 0      & 0   & 0   & 0       & 0   & 0   & 0 \\\\\n",
    "               \n",
    "    0   & 0   & 0     & -1/4 & -1/4 & -1/3    & 0   & 0   & 0       & -1/3 & -1/3 & -1/2  \\\\\n",
    "    0   & 0   & 0     & 0   & 0   & 0      & -1/3 & 0   & 0       & 0   & 0   & 0  \\\\\n",
    "    0   & 0   & 0     & 0   & 0   & 0      & 0   & -1/3 & 0       & 0   & 0   & 0  \\\\\n",
    "               \n",
    "    0   & 0   & 0     & -1/4 & -1/4 & -1/3    & -1/3 & -1/3 & -1/2     & 0   & 0   & 0 \\\\\n",
    "    0   & 0   & 0     & 0   & 0   & 0      & 0   & 0   & 0       & -1/3 & 0   & 0 \\\\\n",
    "    0   & 0   & 0     & 0   & 0   & 0      & 0   & 0   & 0       & 0   & -1/3 & 0\n",
    "    \\end{bmatrix}$$\n",
    "\n",
    "Giải hệ phương trình tuyến tính $12$ ẩn trên với điều kiện $\\sum_{i = 1}^3{a_i + b_i + c_i + d_i} = 1$:\n"
   ]
  },
  {
   "cell_type": "code",
   "execution_count": 69,
   "metadata": {},
   "outputs": [
    {
     "name": "stdout",
     "output_type": "stream",
     "text": [
      "[0.08721987 0.04360993 0.02180497 0.2616596  0.0654149  0.01635373\n",
      " 0.17443973 0.05814658 0.01938219 0.17443973 0.05814658 0.01938219]\n"
     ]
    }
   ],
   "source": [
    "i_p = np.subtract(np.identity(12), P)\n",
    "i_p = np.delete(i_p, 11, axis = 0)\n",
    "i_p = np.vstack((i_p, np.array([1, 1, 1, 1, 1, 1, 1, 1, 1, 1, 1, 1])))\n",
    "\n",
    "p_n = np.array(np.zeros(12))\n",
    "p_n = np.delete(p_n, -1)\n",
    "p_n = np.append(p_n, 1)\n",
    "\n",
    "print(np.linalg.solve(i_p, p_n))"
   ]
  },
  {
   "attachments": {},
   "cell_type": "markdown",
   "metadata": {},
   "source": [
    "Vậy ta được xác suất chuột ở từng phòng sau một thời gian dài $n$ ngày là:\n",
    "$$\\begin{cases}\n",
    "    {\\pi_{n,1}}'&=& 0.08721987 + 0.04360993 + 0.02180497 = 0.15263477 \\\\\n",
    "    {\\pi_{n,2}}'&=& 0.2616596  + 0.0654149  + 0.01635373 = 0.34342823\\\\\n",
    "    {\\pi_{n,3}}'&=& 0.17443973 + 0.05814658 + 0.01938219 = 0.2519685\\\\\n",
    "    {\\pi_{n,4}}'&=& 0.17443973 + 0.05814658 + 0.01938219 = 0.2519685\n",
    "\\end{cases}$$\n",
    "\n",
    "Do đó:\n",
    "$${\\pi_n}' = \\begin{bmatrix}\n",
    "0.15263477 & 0.34342823 & 0.2519685 & 0.2519685\n",
    "\\end{bmatrix}$$"
   ]
  },
  {
   "attachments": {},
   "cell_type": "markdown",
   "metadata": {},
   "source": [
    "#### **Kiểm tra.**  \n",
    "\n",
    "*Giải thích:* \n",
    "* Hàm `choose_room` và `choose_new_room` giúp chọn ngẫu nhiên một phòng (mới) bất kì cho chuột đi khi biết vị trí của chuột ở `from_room`, các hàm này dựa vào mảng `doors` để xem `from_room` có cửa dẫn đến những phòng nào.\n",
    "* Hàm `final_room_1` trả về vị trí chuột sau `after_days` ngày bằng cách gọi `after_days` lần hàm `choose_room`, với tham số mỗi lần gọi là vị trí phòng chuột đến tại lần kề trước, hàm `final_room_2` cũng tương tự nhưng có thêm tham số `forcing_days` là số ngày tối đa chuột có thể ở lại một phòng trước khi bị buộc phải sang phòng mới, mặc định là $3$ ngày.\n"
   ]
  },
  {
   "cell_type": "code",
   "execution_count": 71,
   "metadata": {},
   "outputs": [],
   "source": [
    "import random\n",
    "\n",
    "rooms = ['1', '2', '3', '4']\n",
    "doors = {\n",
    "    '1': ['1', '2'],\n",
    "    '2': ['1', '2', '3', '4'],\n",
    "    '3': ['2', '3', '4'],\n",
    "    '4': ['2', '3' , '4']\n",
    "}\n",
    "\n",
    "def choose_room(from_room):\n",
    "    return random.choices(doors[from_room], k = 1)[0]\n",
    "\n",
    "def choose_new_room(from_room):\n",
    "    doors_list = []\n",
    "    for room in doors[from_room]:\n",
    "        if (room != from_room):\n",
    "            doors_list.append(room)\n",
    "    return random.choices(doors_list, k = 1)[0]\n",
    "\n",
    "def final_room_1(first_room, after_days):\n",
    "    current_room = first_room\n",
    "    for _ in range(after_days):\n",
    "        current_room = choose_room(current_room)\n",
    "    return current_room\n",
    "\n",
    "def final_room_2(first_room, after_days, forcing_days = 3):\n",
    "    current_room = first_room\n",
    "    days_not_move = 1\n",
    "    for _ in range(after_days):\n",
    "        if (days_not_move == forcing_days):\n",
    "            next_room = choose_new_room(current_room)\n",
    "            current_room = next_room\n",
    "            days_not_move = 1\n",
    "            continue\n",
    "        next_room = choose_room(current_room)\n",
    "        if (current_room == next_room):\n",
    "            days_not_move += 1\n",
    "        else:\n",
    "            days_not_move = 1\n",
    "        current_room = next_room\n",
    "    return current_room"
   ]
  },
  {
   "attachments": {},
   "cell_type": "markdown",
   "metadata": {},
   "source": [
    "#### *a)*  \n",
    "*Kết quả tính toán:* $0.203342$  \n",
    "*Kết quả mô phỏng*:"
   ]
  },
  {
   "cell_type": "code",
   "execution_count": 75,
   "metadata": {},
   "outputs": [
    {
     "name": "stdout",
     "output_type": "stream",
     "text": [
      "Câu 2a:  0.203702\n"
     ]
    }
   ],
   "source": [
    "n = 1000000\n",
    "\n",
    "def success_times_1(n, from_room, to_room, after_days):\n",
    "    k = 0\n",
    "    for _ in range(n):\n",
    "        if to_room  == final_room_1(from_room, after_days):\n",
    "            k += 1\n",
    "    return k\n",
    "\n",
    "# Câu 2a\n",
    "print(\"Câu 2a: \", success_times_1(n, '1', '1', 5)/n)"
   ]
  },
  {
   "attachments": {},
   "cell_type": "markdown",
   "metadata": {},
   "source": [
    "#### *b)*  \n",
    "*Kết quả tính toán:* $\\begin{bmatrix}\n",
    "0.1667 & 0.3333 & 0.25 & 0.25\n",
    "\\end{bmatrix}$  \n",
    "*Kết quả mô phỏng*:"
   ]
  },
  {
   "cell_type": "code",
   "execution_count": 254,
   "metadata": {},
   "outputs": [
    {
     "name": "stdout",
     "output_type": "stream",
     "text": [
      "Câu 2b:  [0.1702, 0.3392, 0.249, 0.2416]\n"
     ]
    }
   ],
   "source": [
    "n = 5000\n",
    "def rooms_stayed_times_1(n, from_room, after_days):\n",
    "    k = {'1': 0, '2': 0, '3': 0, '4': 0}\n",
    "    for _ in range(n):\n",
    "        k[final_room_1(from_room, after_days)] += 1           \n",
    "    return k\n",
    "\n",
    "# Câu 2b\n",
    "answer_2b =  rooms_stayed_times_1(n, '1', n)\n",
    "list_2b = [answer_2b['1']/n, answer_2b['2']/n, answer_2b['3']/n, answer_2b['4']/n]\n",
    "print(\"Câu 2b: \", list_2b)"
   ]
  },
  {
   "attachments": {},
   "cell_type": "markdown",
   "metadata": {},
   "source": [
    "#### *c)*  \n",
    "*Kết quả tính toán:* $0.16493056$  \n",
    "*Kết quả mô phỏng*:"
   ]
  },
  {
   "cell_type": "code",
   "execution_count": 255,
   "metadata": {},
   "outputs": [
    {
     "name": "stdout",
     "output_type": "stream",
     "text": [
      "Câu 2c:  0.16468\n"
     ]
    }
   ],
   "source": [
    "n = 100000\n",
    "\n",
    "def success_times_2(n, from_room, to_room, after_days):\n",
    "    k = 0\n",
    "    for _ in range(n):\n",
    "        if to_room  == final_room_2(from_room, after_days, 3):\n",
    "            k += 1\n",
    "    return k\n",
    "\n",
    "# Câu 2c\n",
    "print(\"Câu 2c: \", success_times_2(n, '1', '1', 5)/n)\n"
   ]
  },
  {
   "attachments": {},
   "cell_type": "markdown",
   "metadata": {},
   "source": [
    "#### *d)*  \n",
    "*Kết quả tính toán:* $\\begin{bmatrix}\n",
    "0.15263477 & 0.34342823 & 0.2519685 & 0.2519685\n",
    "\\end{bmatrix}$  \n",
    "*Kết quả mô phỏng*:"
   ]
  },
  {
   "cell_type": "code",
   "execution_count": 256,
   "metadata": {},
   "outputs": [
    {
     "name": "stdout",
     "output_type": "stream",
     "text": [
      "Câu 2d:  [0.1524, 0.3444, 0.2644, 0.2388]\n"
     ]
    }
   ],
   "source": [
    "n = 5000\n",
    "def rooms_stayed_times_2(n, from_room, after_days):\n",
    "    k = {'1': 0, '2': 0, '3': 0, '4': 0}\n",
    "    for _ in range(n):\n",
    "        k[final_room_2(from_room, after_days, 3)] += 1           \n",
    "    return k\n",
    "\n",
    "# Câu 2d\n",
    "answer_2d =  rooms_stayed_times_2(n, '1', n)\n",
    "list_2d = [answer_2d['1']/n, answer_2d['2']/n, answer_2d['3']/n, answer_2d['4']/n]\n",
    "print(\"Câu 2d: \", list_2d)"
   ]
  },
  {
   "attachments": {},
   "cell_type": "markdown",
   "metadata": {},
   "source": [
    "#### **Câu 3.**  "
   ]
  },
  {
   "attachments": {},
   "cell_type": "markdown",
   "metadata": {},
   "source": [
    "Gọi $T_n$, $L_n$ và $X_n$ lần lượt là số khách trên xe sau khi rời trạm $n$, số người lên tại trạm $n$ và số người xuống tại trạm $n$. Ta có công thức đệ quy sau:\n",
    "$$\\begin{cases}\n",
    "T_n &= T_{n-1} + L_n - X_n \\\\\n",
    "T_{0} &= 0\n",
    "\\end{cases}$$\n",
    "\n",
    "Giả sử sau khi rời trạm $n$ xe có $k$ người trên xe, gọi $l$, $x$ lần lượt là số người đã lên xe và xuống xe tại trạm $n$. Dễ thấy:  \n",
    "$$P(T_n = k) = \\sum_l \\sum_x P(T_{n-1} = k - l + x)\\times P(L_n = l) \\times P(X_n = x | T_{n - 1} = k - l + x)$$  \n",
    "Trong đó  \n",
    "* $P(L_n = l) =$ $\\begin{cases}\n",
    "    0.5 \\text{\\;\\;khi\\;\\;} l = 0 \\\\\n",
    "    0.4 \\text{\\;\\;khi\\;\\;} l = 1 \\\\\n",
    "    0.1 \\text{\\;\\;khi\\;\\;} l = 2 \\\\\n",
    "    0 \\text{\\;\\;khi\\;\\;} l \\notin \\{0, 1, 2\\} \n",
    "\\end{cases}$\n",
    "\n",
    "* $X_n$ là phân phối nhị thức và $P(X_n = x | T_{n - 1} = k - l + x) = C_{k - l + x}^x\\times 0.2^x\\times 0.8^{k - l}$\n",
    "\n",
    "**Chú ý:**\n",
    "* $L_n\\leq T_n \\leq 2n$\n",
    "* $0 \\leq L_n \\leq 2$\n",
    "* $0 \\leq X_n \\leq 2(n-1)$"
   ]
  },
  {
   "attachments": {},
   "cell_type": "markdown",
   "metadata": {},
   "source": [
    "> *Ghi chú:* Với hai câu *a)* và *b)*. Em nghĩ cách dùng từ *\"**vẫn** không có khách\"* khá nhập nhằng, có thể hiểu là xe chưa đón được khách nào lên từ lúc khởi hành. Xác suất này khá dễ tính, vậy nên em xin hiểu theo cách sau: *Xác suất xe rời trạm $2$  (trạm $3$ đối với ý b)) mà trên xe ~~vẫn~~ không có khách.*  \n",
    "\n",
    "#### *a)*  \n",
    "\n",
    "Theo đề bài, ta cần tìm $P(T_2 = 0)$, tức xác suất $T_1 - X_2 + L_2 = 0$. Ta có: \n",
    "\\begin{align*}\n",
    "&& 0 \\leq L_2 = l \\leq T_2 = 0 &\\text{\\;\\;và\\;\\;}& 0 \\leq X_2 = x \\leq 2 \\\\\n",
    "&\\Rightarrow& l = 0 &\\text{\\;\\;và\\;\\;}& x \\in \\{0, 1, 2\\} \n",
    "\\end{align*}\n",
    "\n",
    "Vậy các bộ sau đây thoả đề bài:\n",
    "$$\\begin{cases}\n",
    "l = 0,\\;\\; x = 0, T_1 = 0\\\\\n",
    "l = 0,\\;\\; x = 1, T_1 = 1\\\\\n",
    "l = 0,\\;\\; x = 2, T_1 = 2\\\\\n",
    "\\end{cases}$$\n",
    "\n",
    "Ta có:\n",
    "$$\\begin{cases}\n",
    "P(X_2 = 0 | T_1 = 0) &=& C_{0}^0\\times 0.2^0\\times 0.8^{0} &=& 1 \\\\\n",
    "P(X_2 = 1 | T_1 = 1) &=& C_{1}^1\\times 0.2^1\\times 0.8^{0} &=& 0.2 \\\\\n",
    "P(X_2 = 2 | T_1 = 2) &=& C_{2}^2\\times 0.2^2\\times 0.8^{0} &=& 0.04 \\\\\n",
    "\\end{cases}\n",
    "\\text{\\;\\;và\\;\\;}\n",
    "P(L_2 = 0) = 0.5\n",
    "\\text{\\;\\;và\\;\\;}\n",
    "P(T_1 = t) = P(L_1 = t) = \\begin{cases}\n",
    "    0.5 \\text{\\;\\;khi\\;\\;} t = 0 \\\\\n",
    "    0.4 \\text{\\;\\;khi\\;\\;} t = 1 \\\\\n",
    "    0.1 \\text{\\;\\;khi\\;\\;} t = 2 \\\\\n",
    "    0 \\text{\\;\\;khi\\;\\;} t \\notin \\{0, 1, 2\\} \n",
    "\\end{cases}\n",
    "$$\n",
    "\n",
    "Vậy xác suất cần tính là:\n",
    "$$\\begin{align*}\n",
    "&P(T_2 = 0) &=&\\; \\sum_l \\sum_x P(T_1 = - l + x)\\times P(L_2 = 0) \\times P(X_2 = x | T_1 = -l + x) \\\\\n",
    "&&=&\\;\\; 0.5\\times 0.5\\times 1 + 0.4\\times 0.5 \\times 0.2 + 0.1\\times 0.5 \\times 0.04 = 0.292\n",
    "\\end{align*}$$"
   ]
  },
  {
   "attachments": {},
   "cell_type": "markdown",
   "metadata": {},
   "source": [
    "\n",
    "#### *b)*  \n",
    "\n",
    "Theo đề bài, ta cần tìm $P(T_3 = 0)$, tức xác suất $T_2 - X_3 + L_3 = 0$. Ta có: \n",
    "\\begin{align*}\n",
    "&& 0 \\leq L_3 = l_3 \\leq T_3 = 0 &\\text{\\;\\;và\\;\\;}& 0 \\leq X_3 = x_3 \\leq 4 \\\\\n",
    "&\\Rightarrow& l_3 = 0 &\\text{\\;\\;và\\;\\;}& x_3 \\in \\{0, 1, 2, 3, 4\\} \n",
    "\\end{align*}\n",
    "\n",
    "Khó để giải bài toán này theo cách *a)* trên do có quá nhiều trường hợp, tuy nhiên có thể lập trình bài toán tính $P(T_n = k)$ bằng cách cài đặt đệ quy câu *a)* như sau:\n",
    "* Hàm `prob_L`, `prob_X` được cài đặt theo công thức đã đề cập.\n",
    "* Hàm `prob_T` là hàm đệ quy tính giá trị xác suất có `n` trên xe sau khi xe rời trạm `at_station`, với điều kiện dừng tại $P(T_0 = x)$"
   ]
  },
  {
   "cell_type": "code",
   "execution_count": 129,
   "metadata": {},
   "outputs": [],
   "source": [
    "from numpy import math\n",
    "import itertools\n",
    "\n",
    "def prob_L(n):\n",
    "    if n == 0:\n",
    "        return 0.5\n",
    "    if n == 1:\n",
    "        return 0.4\n",
    "    if n  == 2:\n",
    "        return 0.1\n",
    "    return 0\n",
    "\n",
    "def prob_X(n, current_size):\n",
    "    return math.comb(current_size, n) * (0.2 ** n) * (0.8 ** (current_size - n))\n",
    "\n",
    "def prob_T(n, at_station):\n",
    "    if at_station == 0:\n",
    "        return 1 if n == 0 else 0\n",
    "    list_L = [i for i in range(min(n + 1, 3))] # L_n\n",
    "    list_X = [i for i in range(2 * ( at_station - 1) + 1)] # X_n\n",
    "    list_T = [i for i in range(2 * (at_station - 1) + 1)] # T_{n-1}\n",
    "    total_prob = 0\n",
    "    for l, x, t in itertools.product(list_L, list_X, list_T):\n",
    "        if l - x + t != n:\n",
    "            continue\n",
    "        if x > t:\n",
    "            continue\n",
    "        total_prob += prob_T(t, at_station - 1) * prob_L(l) * prob_X(x, t)\n",
    "    return total_prob"
   ]
  },
  {
   "cell_type": "code",
   "execution_count": 136,
   "metadata": {},
   "outputs": [
    {
     "name": "stdout",
     "output_type": "stream",
     "text": [
      "Câu 3b: 0.19183232\n"
     ]
    }
   ],
   "source": [
    "print('Câu 3b:' ,prob_T(0, 3))"
   ]
  },
  {
   "attachments": {},
   "cell_type": "markdown",
   "metadata": {},
   "source": [
    "Vậy kết quả là: \n",
    "$$P(T_3 = 0) = 0.19183232$$"
   ]
  },
  {
   "attachments": {},
   "cell_type": "markdown",
   "metadata": {},
   "source": [
    "#### *c)*  \n",
    "Ta đã biết:\n",
    "$$0 \\leq T_5 \\leq 2\\times 5 = 10$$\n",
    "\n",
    "Vậy theo đề bài, ta được tập các giá trị của $T_5$ là $\\{5, 6, 7, 8, 9, 10\\}$. Cài đặt python như sau:"
   ]
  },
  {
   "cell_type": "code",
   "execution_count": 139,
   "metadata": {},
   "outputs": [
    {
     "name": "stdout",
     "output_type": "stream",
     "text": [
      "Câu 3b: 0.03430457666897152\n"
     ]
    }
   ],
   "source": [
    "list_T5 = [5, 6, 7, 8, 9, 10]\n",
    "calc_result_3c = 0\n",
    "for t in list_T5:\n",
    "    calc_result_3c += prob_T(t, 5)\n",
    "print('Câu 3b:' , calc_result_3c)"
   ]
  },
  {
   "attachments": {},
   "cell_type": "markdown",
   "metadata": {},
   "source": [
    "Vậy kết quả là: \n",
    "$$P(T_5 \\geq 5) = 0.03430457666897152$$"
   ]
  },
  {
   "attachments": {},
   "cell_type": "markdown",
   "metadata": {},
   "source": [
    "#### *d)*  \n",
    "Theo đề bài, ta cần tính xác suất:  \n",
    "$$P(T_1 = \\lvert\\{An\\}\\rvert\\;|\\; T_2 = 0)$$\n",
    "\n",
    "Mà ta có:\n",
    "$$P(T_1 = \\lvert\\{An\\}\\rvert) = P(T_1 = 1) = L_1 = 0.4$$\n",
    "\n",
    "Dựa vào câu *a)*, ta cũng có:\n",
    "$$P(T_2 = 0 \\wedge T_1 = \\lvert\\{An\\}\\rvert) = P(T_1 = 1) \\times P(L_2 = 0) \\times P(X_2 = 1 | T_1 = 1) = 0.4\\times 0.5 \\times 0.2 = 0.04$$\n",
    "\n",
    "Vậy:\n",
    "$$P(T_1 = \\lvert\\{An\\}\\rvert\\;|\\; T_2 = 0) = \\frac{P(T_2 = 0 \\wedge T_1 = \\lvert\\{An\\}\\rvert)}{P(T_2 = 0)} = \\frac{0.04}{0.292} = 0.13698630137$$"
   ]
  },
  {
   "attachments": {},
   "cell_type": "markdown",
   "metadata": {},
   "source": [
    "#### *e)*  \n",
    "Ta biết $0 \\leq T_2 \\leq 2\\times 2 = 4$, vậy tập các giá trị có thể có của $T_2$ là \\{0, 1, 2, 3, 4\\}. Do đó cài đặt python như sau:"
   ]
  },
  {
   "cell_type": "code",
   "execution_count": 147,
   "metadata": {},
   "outputs": [
    {
     "name": "stdout",
     "output_type": "stream",
     "text": [
      "Câu 3e:  1.0800000000000003\n"
     ]
    }
   ],
   "source": [
    "list_t2 = [0, 1, 2, 3, 4]\n",
    "result_3e = 0\n",
    "for t in list_t2:\n",
    "    result_3e += t * prob_T(t, 2)\n",
    "print(\"Câu 3e: \", result_3e)"
   ]
  },
  {
   "attachments": {},
   "cell_type": "markdown",
   "metadata": {},
   "source": [
    "Vậy ta có:\n",
    "$$E(T_2) = 1.08$$"
   ]
  },
  {
   "attachments": {},
   "cell_type": "markdown",
   "metadata": {},
   "source": [
    "#### *f)*  \n",
    "Tương tự, ta có tập giá trị của $T_3$ là $\\{0, 1, 2, 3, 4, 5, 6\\}$."
   ]
  },
  {
   "cell_type": "code",
   "execution_count": 150,
   "metadata": {},
   "outputs": [
    {
     "name": "stdout",
     "output_type": "stream",
     "text": [
      "Câu 3f:  1.4640000000000006\n"
     ]
    }
   ],
   "source": [
    "list_t3 = [0, 1, 2, 3, 4, 5, 6]\n",
    "result_3f = 0\n",
    "for t in list_t3:\n",
    "    result_3f += t * prob_T(t, 3)\n",
    "print(\"Câu 3f: \", result_3f)"
   ]
  },
  {
   "attachments": {},
   "cell_type": "markdown",
   "metadata": {},
   "source": [
    "Vậy ta có:\n",
    "$$E(T_3) = 1.464$$"
   ]
  },
  {
   "attachments": {},
   "cell_type": "markdown",
   "metadata": {},
   "source": [
    "#### *g)*\n",
    "Nếu số người lên cũng phụ thuộc vào số chỗ còn lại trên xe, giờ đây $P(L_n = l)$ cũng bị phụ thuộc vào $P(T_{n-1} = t)$. Ta phải đảm bảo rằng:  \n",
    "$$T_{n-1} - X_n + L_n \\leq 5 \\text{\\;\\;với\\;\\;}T_{n-1}-X_{n} = \\Delta \\leq T_{n-1} \\leq 5$$  \n",
    "* Trường hợp $\\Delta \\leq 3$:  \n",
    "Ta có xác suất $P(L_n = l)$ như cũ và được tính như sau:\n",
    "$P(L_n = l | T_{n - 1} - X_n = \\Delta) =$ $\\begin{cases}\n",
    "    0.5 \\text{\\;\\;khi\\;\\;} l = 0 \\\\\n",
    "    0.4 \\text{\\;\\;khi\\;\\;} l = 1 \\\\\n",
    "    0.1 \\text{\\;\\;khi\\;\\;} l = 2 \\\\\n",
    "    0 \\text{\\;\\;khi\\;\\;} l \\notin \\{0, 1, 2\\} \n",
    "\\end{cases}$  \n",
    "* Trường hợp $\\Delta = 4$:  \n",
    "Ta có \n",
    "$P(L_n = l | T_{n - 1} - X_n = \\Delta) =$ $\\begin{cases}\n",
    "    0.5 \\text{\\;\\;khi\\;\\;} l = 0 \\\\\n",
    "    0.5 \\text{\\;\\;khi\\;\\;} l = 1 \\\\\n",
    "    0 \\text{\\;\\;khi\\;\\;} l \\notin \\{0, 1\\} \n",
    "\\end{cases}$  \n",
    "* Trường hợp $\\Delta = 5$:  \n",
    "Ta có \n",
    "$P(L_n = l | T_{n - 1} - X_n = \\Delta) =$ $\\begin{cases}\n",
    "    1 \\text{\\;\\;khi\\;\\;} l = 0 \\\\\n",
    "    0 \\text{\\;\\;khi\\;\\;} l \\neq 0\n",
    "\\end{cases}$  \n",
    "Vậy, cần cài đặt lại hàm `prob_L_2` sao cho nhận thêm tham số `delta`.\n",
    "Ta cũng cần phải điều chỉnh hàm `prob_T` để loại bỏ bất kì thời điểm nào $T_n > 5$. Các hàm mới như sau:"
   ]
  },
  {
   "cell_type": "code",
   "execution_count": 240,
   "metadata": {},
   "outputs": [],
   "source": [
    "def prob_L_2(n, delta):\n",
    "    if delta <= 3:\n",
    "        return prob_L(n)\n",
    "    if delta == 4:\n",
    "        if n == 0:\n",
    "            return 0.5\n",
    "        if n == 1:\n",
    "            return 0.5\n",
    "        return 0\n",
    "    if n == 0:\n",
    "        return 1\n",
    "    return 0\n",
    "\n",
    "def prob_T_2(n, at_station):\n",
    "    if n > 5:\n",
    "        return 0\n",
    "    if at_station == 0:\n",
    "        return 1 if n == 0 else 0\n",
    "    list_L = [i for i in range(min(n + 1, 3))] # L_n\n",
    "    list_X = [i for i in range(min(2 * (at_station - 1) + 1,6))] # X_n\n",
    "    list_T = [i for i in range(min(2 * (at_station - 1) + 1,6))] # T_{n-1}\n",
    "    total_prob = 0\n",
    "    for l, x, t in itertools.product(list_L, list_X, list_T):\n",
    "        if l - x + t != n:\n",
    "            continue\n",
    "        if x > t:\n",
    "            continue\n",
    "        total_prob += prob_T_2(t, at_station - 1) * prob_L_2(l, t - x) * prob_X(x, t)\n",
    "    return total_prob"
   ]
  },
  {
   "cell_type": "code",
   "execution_count": 241,
   "metadata": {},
   "outputs": [
    {
     "name": "stdout",
     "output_type": "stream",
     "text": [
      "Câu 3g: 0.033708699289649195\n"
     ]
    }
   ],
   "source": [
    "print('Câu 3g:' , prob_T_2(5, 5))"
   ]
  },
  {
   "attachments": {},
   "cell_type": "markdown",
   "metadata": {},
   "source": [
    "Vậy ta có kết quả:\n",
    "$$P'(T_5 = 5) = 0.033708699289649195$$"
   ]
  },
  {
   "attachments": {},
   "cell_type": "markdown",
   "metadata": {},
   "source": [
    "#### *h)*\n",
    "Tương tự như câu *f)*, nhưng với điều kiện chỗ ngồi tối đa, ta có tập giá trị của $T_5$ là $\\{0, 1, 2, 3, 4, 5\\}$. Cài đặt python là:"
   ]
  },
  {
   "cell_type": "code",
   "execution_count": 242,
   "metadata": {},
   "outputs": [
    {
     "name": "stdout",
     "output_type": "stream",
     "text": [
      "Câu 3h:  2.0082514759868815\n"
     ]
    }
   ],
   "source": [
    "list_t5_2 = [0, 1, 2, 3, 4, 5]\n",
    "result_3h = 0\n",
    "for t in list_t5_2:\n",
    "    result_3h += t * prob_T_2(t, 5)\n",
    "print(\"Câu 3h: \", result_3h)"
   ]
  },
  {
   "attachments": {},
   "cell_type": "markdown",
   "metadata": {},
   "source": [
    "Vậy ta có kết quả:\n",
    "$$E'(T_5) = 2.0082514759868815$$"
   ]
  },
  {
   "attachments": {},
   "cell_type": "markdown",
   "metadata": {},
   "source": [
    "#### **Kiểm tra.**  \n",
    "\n",
    "*Giải thích:* \n",
    "* Hàm `go_down` và `go_up` tính số lượng khách xuống và lên mỗi lượt trạm.\n",
    "* Hàm `bus_size` tính số lượng hành khách trên xe sau khi xe rời trạm `after_stops`. Tương tự, hàm `bus_size_max` cài đặt thêm tính năng chỉ cho vừa đủ người lên xe nếu số lượng hành khách sắp lên vượt qua `max`.\n"
   ]
  },
  {
   "cell_type": "code",
   "execution_count": 107,
   "metadata": {},
   "outputs": [],
   "source": [
    "go_down_probability = 0.2\n",
    "go_up_numbers = [0, 1, 2]\n",
    "go_up_probabilty = [0.5, 0.4, 0.1]\n",
    "\n",
    "def go_down(current_size):\n",
    "    total_go_down = 0\n",
    "    for _ in range(current_size):\n",
    "        total_go_down += random.choices([1, 0], [go_down_probability, 1 - go_down_probability])[0]\n",
    "    return total_go_down\n",
    "\n",
    "def go_up():\n",
    "    return random.choices(go_up_numbers, go_up_probabilty)[0]\n",
    "\n",
    "def bus_size(after_stops):\n",
    "    current_size = 0\n",
    "    for _ in range(after_stops):\n",
    "        current_size -= go_down(current_size)\n",
    "        current_size += go_up()\n",
    "    return current_size\n",
    "\n",
    "def bus_size_max(after_stops, max):\n",
    "    current_size = 0\n",
    "    go_up_people = 0\n",
    "    for _ in range(after_stops):\n",
    "        current_size -= go_down(current_size)\n",
    "        go_up_people = go_up()\n",
    "        if current_size + go_up_people > max:\n",
    "            current_size = max\n",
    "        else:\n",
    "            current_size += go_up_people\n",
    "    return current_size"
   ]
  },
  {
   "attachments": {},
   "cell_type": "markdown",
   "metadata": {},
   "source": [
    "#### *a)*  \n",
    "*Kết quả tính toán:* $0.292$   \n",
    "*Kết quả mô phỏng*:"
   ]
  },
  {
   "cell_type": "code",
   "execution_count": 244,
   "metadata": {},
   "outputs": [
    {
     "name": "stdout",
     "output_type": "stream",
     "text": [
      "Câu 3a:  0.29142\n"
     ]
    }
   ],
   "source": [
    "n = 1000000\n",
    "# Câu 3a\n",
    "result_3a = 0\n",
    "for _ in range(n):\n",
    "    if bus_size(2) == 0:\n",
    "        result_3a += 1\n",
    "print(\"Câu 3a: \", result_3a/n)"
   ]
  },
  {
   "attachments": {},
   "cell_type": "markdown",
   "metadata": {},
   "source": [
    "#### *b)*  \n",
    "*Kết quả tính toán:* $0.19183232$   \n",
    "*Kết quả mô phỏng*:"
   ]
  },
  {
   "cell_type": "code",
   "execution_count": 245,
   "metadata": {},
   "outputs": [
    {
     "name": "stdout",
     "output_type": "stream",
     "text": [
      "Câu 3b:  0.191776\n"
     ]
    }
   ],
   "source": [
    "n = 1000000\n",
    "# Câu 3b\n",
    "result_3b = 0\n",
    "for _ in range(n):\n",
    "    if bus_size(3) == 0:\n",
    "        result_3b += 1\n",
    "print(\"Câu 3b: \", result_3b/n)"
   ]
  },
  {
   "attachments": {},
   "cell_type": "markdown",
   "metadata": {},
   "source": [
    "#### *c)*  \n",
    "*Kết quả tính toán:* $0.03430457666897152$   \n",
    "*Kết quả mô phỏng*:"
   ]
  },
  {
   "cell_type": "code",
   "execution_count": 246,
   "metadata": {},
   "outputs": [
    {
     "name": "stdout",
     "output_type": "stream",
     "text": [
      "Câu 3c:  0.034173\n"
     ]
    }
   ],
   "source": [
    "n = 1000000\n",
    "# Câu 3c\n",
    "result_3c = 0\n",
    "for _ in range(n):\n",
    "    if bus_size(5) >= 5:\n",
    "        result_3c += 1\n",
    "print(\"Câu 3c: \", result_3c/n)"
   ]
  },
  {
   "attachments": {},
   "cell_type": "markdown",
   "metadata": {},
   "source": [
    "#### *d)*  \n",
    "*Kết quả tính toán:* $0.13698630137$   \n",
    "*Kết quả mô phỏng*:"
   ]
  },
  {
   "cell_type": "code",
   "execution_count": 247,
   "metadata": {},
   "outputs": [
    {
     "name": "stdout",
     "output_type": "stream",
     "text": [
      "Câu 3d:  0.1369052318656007\n"
     ]
    }
   ],
   "source": [
    "n = 1000000\n",
    "# Câu 3d\n",
    "result_3d = 0\n",
    "m = 0\n",
    "for _ in range(n):\n",
    "    t1 = bus_size(1)\n",
    "    t2 = t1\n",
    "    t2 -= go_down(t2)\n",
    "    t2 += go_up()\n",
    "\n",
    "    if t2 == 0:\n",
    "        m += 1\n",
    "        if t1 == 1:\n",
    "            result_3d += 1\n",
    "\n",
    "print(\"Câu 3d: \", result_3d/m)"
   ]
  },
  {
   "attachments": {},
   "cell_type": "markdown",
   "metadata": {},
   "source": [
    "#### *e)*  \n",
    "*Kết quả tính toán:* $1.08$   \n",
    "*Kết quả mô phỏng*:"
   ]
  },
  {
   "cell_type": "code",
   "execution_count": 248,
   "metadata": {},
   "outputs": [
    {
     "name": "stdout",
     "output_type": "stream",
     "text": [
      "Câu 3e:  1.079489\n"
     ]
    }
   ],
   "source": [
    "n = 1000000\n",
    "# Câu 3e\n",
    "result_3e = 0\n",
    "for _ in range(n):\n",
    "    result_3e += bus_size(2)\n",
    "print(\"Câu 3e: \", result_3e/n)"
   ]
  },
  {
   "attachments": {},
   "cell_type": "markdown",
   "metadata": {},
   "source": [
    "#### *f)*  \n",
    "*Kết quả tính toán:* $1.464$   \n",
    "*Kết quả mô phỏng*:"
   ]
  },
  {
   "cell_type": "code",
   "execution_count": 249,
   "metadata": {},
   "outputs": [
    {
     "name": "stdout",
     "output_type": "stream",
     "text": [
      "Câu 3f:  1.464782\n"
     ]
    }
   ],
   "source": [
    "n = 1000000\n",
    "# Câu 3f\n",
    "result_3f = 0\n",
    "for _ in range(n):\n",
    "    result_3f += bus_size(3)\n",
    "print(\"Câu 3f: \", result_3f/n)"
   ]
  },
  {
   "attachments": {},
   "cell_type": "markdown",
   "metadata": {},
   "source": [
    "#### *g)*  \n",
    "*Kết quả tính toán:* $0.033708699289649195$   \n",
    "*Kết quả mô phỏng*:"
   ]
  },
  {
   "cell_type": "code",
   "execution_count": 250,
   "metadata": {},
   "outputs": [
    {
     "name": "stdout",
     "output_type": "stream",
     "text": [
      "Câu 3g:  0.033531\n"
     ]
    }
   ],
   "source": [
    "n = 1000000\n",
    "# Câu 3g\n",
    "result_3g = 0\n",
    "for i in range(n):\n",
    "    if bus_size_max(5, 5) == 5:\n",
    "        result_3g += 1\n",
    "print(\"Câu 3g: \", result_3g/n)"
   ]
  },
  {
   "attachments": {},
   "cell_type": "markdown",
   "metadata": {},
   "source": [
    "#### *h)*  \n",
    "*Kết quả tính toán:* $2.0082514759868815$   \n",
    "*Kết quả mô phỏng*:"
   ]
  },
  {
   "cell_type": "code",
   "execution_count": 252,
   "metadata": {},
   "outputs": [
    {
     "name": "stdout",
     "output_type": "stream",
     "text": [
      "Câu 3h:  2.009115\n"
     ]
    }
   ],
   "source": [
    "n = 1000000\n",
    "# Câu 3h\n",
    "result_3h = 0\n",
    "for _ in range(n):\n",
    "    result_3h += bus_size_max(5, 5)\n",
    "print(\"Câu 3h: \", result_3h/n)"
   ]
  }
 ],
 "metadata": {
  "kernelspec": {
   "display_name": "Python 3",
   "language": "python",
   "name": "python3"
  },
  "language_info": {
   "codemirror_mode": {
    "name": "ipython",
    "version": 3
   },
   "file_extension": ".py",
   "mimetype": "text/x-python",
   "name": "python",
   "nbconvert_exporter": "python",
   "pygments_lexer": "ipython3",
   "version": "3.10.10"
  },
  "orig_nbformat": 4
 },
 "nbformat": 4,
 "nbformat_minor": 2
}
